{
  "nbformat": 4,
  "nbformat_minor": 0,
  "metadata": {
    "colab": {
      "name": "Malhan.ipynb",
      "provenance": []
    },
    "kernelspec": {
      "name": "python3",
      "display_name": "Python 3"
    },
    "language_info": {
      "name": "python"
    }
  },
  "cells": [
    {
      "cell_type": "code",
      "metadata": {
        "id": "tFzcdl_CPjRi"
      },
      "source": [
        "import requests"
      ],
      "execution_count": 1,
      "outputs": []
    },
    {
      "cell_type": "code",
      "metadata": {
        "id": "GxrnndiidubB"
      },
      "source": [
        "from datetime import datetime"
      ],
      "execution_count": 2,
      "outputs": []
    },
    {
      "cell_type": "code",
      "metadata": {
        "id": "x9hgfUE1dvjS"
      },
      "source": [
        "api_key = '77baa6c0052e66d57406c7354d615666'"
      ],
      "execution_count": 3,
      "outputs": []
    },
    {
      "cell_type": "code",
      "metadata": {
        "colab": {
          "base_uri": "https://localhost:8080/"
        },
        "id": "O0Vi1VMeeI_6",
        "outputId": "b32829ee-8420-48e3-ce58-8e41231c4f86"
      },
      "source": [
        "location = input(\"Enter the city name: \")"
      ],
      "execution_count": 4,
      "outputs": [
        {
          "output_type": "stream",
          "text": [
            "Enter the city name: bengaluru\n"
          ],
          "name": "stdout"
        }
      ]
    },
    {
      "cell_type": "code",
      "metadata": {
        "id": "062JRSG3eYsr"
      },
      "source": [
        "complete_api_link = \"https://api.openweathermap.org/data/2.5/weather?q=\"+location+\"&appid=\"+api_key"
      ],
      "execution_count": 5,
      "outputs": []
    },
    {
      "cell_type": "code",
      "metadata": {
        "id": "3RVF3x8ZegWp"
      },
      "source": [
        "api_link = requests.get(complete_api_link)"
      ],
      "execution_count": 6,
      "outputs": []
    },
    {
      "cell_type": "code",
      "metadata": {
        "id": "5Oex5IB9emI6"
      },
      "source": [
        "api_data = api_link.json()"
      ],
      "execution_count": 7,
      "outputs": []
    },
    {
      "cell_type": "code",
      "metadata": {
        "id": "qd5MJENLepoL"
      },
      "source": [
        "temp_city = ((api_data['main']['temp']) - 273.15)"
      ],
      "execution_count": 8,
      "outputs": []
    },
    {
      "cell_type": "code",
      "metadata": {
        "id": "6Spme-jRetFb"
      },
      "source": [
        "weather_desc = api_data['weather'][0]['description']"
      ],
      "execution_count": 9,
      "outputs": []
    },
    {
      "cell_type": "code",
      "metadata": {
        "id": "HaIV6TgueyfH"
      },
      "source": [
        "hmdt = api_data['main']['humidity']"
      ],
      "execution_count": 10,
      "outputs": []
    },
    {
      "cell_type": "code",
      "metadata": {
        "id": "MXN4NBS3e3aI"
      },
      "source": [
        "wind_spd = api_data['wind']['speed']"
      ],
      "execution_count": 11,
      "outputs": []
    },
    {
      "cell_type": "code",
      "metadata": {
        "id": "6b18VZiqfFW1"
      },
      "source": [
        "date_time = datetime.now().strftime(\"%d %b %Y | %I:%M:%S %p\")"
      ],
      "execution_count": 12,
      "outputs": []
    },
    {
      "cell_type": "code",
      "metadata": {
        "colab": {
          "base_uri": "https://localhost:8080/"
        },
        "id": "DoTDr4ihfJT4",
        "outputId": "2cfc92e0-6a82-4a54-efa4-17a1eb192c7c"
      },
      "source": [
        "print (\"-------------------------------------------------------------\")"
      ],
      "execution_count": 13,
      "outputs": [
        {
          "output_type": "stream",
          "text": [
            "-------------------------------------------------------------\n"
          ],
          "name": "stdout"
        }
      ]
    },
    {
      "cell_type": "code",
      "metadata": {
        "colab": {
          "base_uri": "https://localhost:8080/"
        },
        "id": "3HLOWQQifOn1",
        "outputId": "f2cb924a-8cae-4750-9ce5-6eaf6e9b3636"
      },
      "source": [
        "print (\"Weather Stats for - {}  || {}\".format(location.upper(), date_time))"
      ],
      "execution_count": 14,
      "outputs": [
        {
          "output_type": "stream",
          "text": [
            "Weather Stats for - BENGALURU  || 23 Jun 2021 | 01:57:51 PM\n"
          ],
          "name": "stdout"
        }
      ]
    },
    {
      "cell_type": "code",
      "metadata": {
        "colab": {
          "base_uri": "https://localhost:8080/"
        },
        "id": "O867ut1hfUab",
        "outputId": "59318a91-2ff6-44d8-8dd4-2845b99ed83a"
      },
      "source": [
        "print (\"-------------------------------------------------------------\")"
      ],
      "execution_count": 15,
      "outputs": [
        {
          "output_type": "stream",
          "text": [
            "-------------------------------------------------------------\n"
          ],
          "name": "stdout"
        }
      ]
    },
    {
      "cell_type": "code",
      "metadata": {
        "colab": {
          "base_uri": "https://localhost:8080/"
        },
        "id": "Fbi80qZXfWK6",
        "outputId": "ff742d36-0e24-4f70-8de0-3f67ca09ad23"
      },
      "source": [
        "print (\"Current temperature is: {:.2f} deg C\".format(temp_city))"
      ],
      "execution_count": 16,
      "outputs": [
        {
          "output_type": "stream",
          "text": [
            "Current temperature is: 29.13 deg C\n"
          ],
          "name": "stdout"
        }
      ]
    },
    {
      "cell_type": "code",
      "metadata": {
        "colab": {
          "base_uri": "https://localhost:8080/"
        },
        "id": "7V-f27NnfaqZ",
        "outputId": "26d1273e-4a80-4320-8430-9cf321cafdd9"
      },
      "source": [
        "print (\"Current weather desc  :\",weather_desc)"
      ],
      "execution_count": 17,
      "outputs": [
        {
          "output_type": "stream",
          "text": [
            "Current weather desc  : broken clouds\n"
          ],
          "name": "stdout"
        }
      ]
    },
    {
      "cell_type": "code",
      "metadata": {
        "colab": {
          "base_uri": "https://localhost:8080/"
        },
        "id": "MXnQDQFvffpm",
        "outputId": "6f6a1430-ffa6-4d78-8014-dd28ca63ef1a"
      },
      "source": [
        "print (\"Current Humidity      :\",hmdt, '%')"
      ],
      "execution_count": 18,
      "outputs": [
        {
          "output_type": "stream",
          "text": [
            "Current Humidity      : 49 %\n"
          ],
          "name": "stdout"
        }
      ]
    },
    {
      "cell_type": "code",
      "metadata": {
        "colab": {
          "base_uri": "https://localhost:8080/"
        },
        "id": "7fJOfs3Mfjw8",
        "outputId": "1f56550b-eb03-4ae8-9730-49c070129998"
      },
      "source": [
        "print (\"Current wind speed    :\",wind_spd ,'kmph')"
      ],
      "execution_count": 19,
      "outputs": [
        {
          "output_type": "stream",
          "text": [
            "Current wind speed    : 1.54 kmph\n"
          ],
          "name": "stdout"
        }
      ]
    }
  ]
}